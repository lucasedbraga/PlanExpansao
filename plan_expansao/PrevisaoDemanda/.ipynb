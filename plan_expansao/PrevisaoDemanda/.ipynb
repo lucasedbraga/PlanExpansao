{
 "cells": [
  {
   "cell_type": "markdown",
   "metadata": {},
   "source": [
    "# Demonstração uso Redes Neurais Artificiais em Python\n",
    "\n",
    "Para utilização de Redes Neurais em Python primeiramente é necessário instalar os seguintes pacotes em seu ambiente de desenvolvimento pelo gerenciador pip:\n",
    "\n",
    "* Pandas\n",
    "\n",
    "    - Leitura de dados e formação de tabelas e estruturação dos dados\n",
    "    - **pip install pandas**\n",
    "    \n",
    "* Numpy\n",
    "    - Manipulação de Vetores e Matrizes\n",
    "    - **pip install numpy**\n",
    "\n",
    "* Scikit-Learn\n",
    "    - Modelos de Machine-Learning\n",
    "    - **pip install -U scikit-learn**"
   ]
  },
  {
   "cell_type": "code",
   "execution_count": 1,
   "metadata": {},
   "outputs": [],
   "source": [
    "import pandas as pd\n",
    "import numpy as np\n",
    "\n",
    "from sklearn.model_selection import train_test_split\n",
    "# Para separação entre dados de treino e teste\n",
    "from sklearn.neural_network import MLPRegressor\n",
    "# Modelo de Rede Neural Multi-Layer Perceptron"
   ]
  },
  {
   "cell_type": "markdown",
   "metadata": {},
   "source": [
    "# Leitura dos Dados\n",
    "\n",
    "Para leitura de uma planilha do "
   ]
  }
 ],
 "metadata": {
  "kernelspec": {
   "display_name": "Python 3",
   "language": "python",
   "name": "python3"
  },
  "language_info": {
   "codemirror_mode": {
    "name": "ipython",
    "version": 3
   },
   "file_extension": ".py",
   "mimetype": "text/x-python",
   "name": "python",
   "nbconvert_exporter": "python",
   "pygments_lexer": "ipython3",
   "version": "3.8.10"
  }
 },
 "nbformat": 4,
 "nbformat_minor": 4
}
