{
 "cells": [
  {
   "cell_type": "code",
   "execution_count": 439,
   "metadata": {},
   "outputs": [],
   "source": [
    "import numpy as np\n",
    "import pandas as pd\n",
    "from cvxopt.modeling import variable, solvers, op\n",
    "import matplotlib.pyplot as plt"
   ]
  },
  {
   "cell_type": "code",
   "execution_count": 440,
   "metadata": {},
   "outputs": [
    {
     "name": "stdout",
     "output_type": "stream",
     "text": [
      "{'CDef': 500.0, 'Carga': [50.0, 50.0, 50.0], 'n_discretizacoes': 3, 'n_estagios': 3, 'n_cenarios': 2}\n"
     ]
    }
   ],
   "source": [
    "usinas_hidro = [{\n",
    "    \"Nome\": \"UHE1\",\n",
    "    \"Vmax\": 100.,\n",
    "    \"Vmin\": 20.,\n",
    "    \"Prod\": 0.95,\n",
    "    \"Engol\": 60.,\n",
    "    \"Afluencia\": [[23,16],[19,14],[15,11]]\n",
    "}]\n",
    "\n",
    "usinas_termo = [\n",
    "{\n",
    "    \"Nome\": \"TERM1\",\n",
    "    \"Capacidade\": 15.,\n",
    "    \"Custo\": 10.\n",
    "},\n",
    "{\n",
    "    \"Nome\": \"TERM2\",\n",
    "    \"Capacidade\": 10.,\n",
    "    \"Custo\": 25.\n",
    "}\n",
    "]\n",
    "\n",
    "d_gerais = {\n",
    "    \"CDef\": 500.,\n",
    "    \"Carga\": [50.,50.,50.],\n",
    "    \"n_discretizacoes\": 3,\n",
    "    \"n_estagios\": 3,\n",
    "    \"n_cenarios\": 2\n",
    "}\n",
    "\n",
    "sistema = {\n",
    "    \"DGer\": d_gerais,\n",
    "    \"UHE\": usinas_hidro,\n",
    "    \"UTE\": usinas_termo,\n",
    "}\n",
    "print(sistema['DGer'])"
   ]
  },
  {
   "cell_type": "code",
   "execution_count": 441,
   "metadata": {},
   "outputs": [],
   "source": [
    "def despacho(sistema, vol_inicial, afluencia, potecorte, mes, verbose=False):\n",
    "    n_UHE = len(sistema[\"UHE\"])\n",
    "    n_UTE = len(sistema[\"UTE\"])\n",
    "    vol_final = variable(n_UHE)\n",
    "    vol_turbinado = variable(n_UHE)\n",
    "    vol_vertido = variable(n_UHE)\n",
    "    ger_termica = variable(n_UTE)\n",
    "    deficit = variable(1)\n",
    "    custo_futuro = variable(1)\n",
    "\n",
    "    fob = 0\n",
    "    for i,usi in enumerate(sistema[\"UTE\"]):\n",
    "        fob += usi[\"Custo\"]*ger_termica[i]\n",
    "    \n",
    "    fob += sistema[\"DGer\"][\"CDef\"]*deficit[0]\n",
    "\n",
    "    for i,usi in enumerate(sistema[\"UHE\"]):\n",
    "        fob+= 0.01*vol_vertido[i]\n",
    "    \n",
    "    fob += 1.0*custo_futuro[0]\n",
    "\n",
    "    restricoes = []\n",
    "    #Balanço Hídrico\n",
    "    for i,usi in enumerate(sistema[\"UHE\"]):\n",
    "        restricoes.append( vol_final[i] == float(vol_inicial[i])+ float(afluencia[i])-vol_turbinado[i] -vol_vertido[i])\n",
    "    \n",
    "    #Atendimento a Demanda\n",
    "    atendimento_demanda = 0\n",
    "    for i,usi in enumerate(sistema[\"UHE\"]):\n",
    "        atendimento_demanda += usi[\"Prod\"]*vol_turbinado[i]\n",
    "    for i,usi in enumerate(sistema[\"UTE\"]):\n",
    "        atendimento_demanda += ger_termica[i]\n",
    "    atendimento_demanda+=deficit[0]\n",
    "    restricoes.append(atendimento_demanda==sistema['DGer']['Carga'][mes-2])\n",
    "\n",
    "    #Restrição de Canalização\n",
    "    for i,usi in enumerate(sistema[\"UHE\"]):\n",
    "        restricoes.append(vol_final[i]>=usi[\"Vmin\"])\n",
    "        restricoes.append(vol_final[i]<=usi[\"Vmax\"])\n",
    "        restricoes.append(vol_turbinado[i]>=0)\n",
    "        restricoes.append(vol_turbinado[i]<=usi[\"Engol\"])\n",
    "        restricoes.append(vol_vertido[i]>=0)\n",
    "    for i,usi in enumerate(sistema[\"UTE\"]):\n",
    "        restricoes.append(ger_termica[i]<=usi[\"Capacidade\"])\n",
    "        restricoes.append(ger_termica[i]>=0)\n",
    "        \n",
    "    restricoes.append(deficit[0]>=0)\n",
    "    restricoes.append(custo_futuro[0]>=0)\n",
    "\n",
    "    for corte in pote_de_corte:\n",
    "        if corte[\"Estagio\"] == mes:\n",
    "            equacao = 0\n",
    "            for usi in range(n_UHE):\n",
    "                equacao += float(corte['Coefs'][usi])*float(vol_final[usi])\n",
    "            equacao += float(corte['TermoIndependete'])\n",
    "            restricoes.append(custo_futuro[0] >= equacao)\n",
    "\n",
    "    problema = op(fob,restricoes).solve('dense','glpk')\n",
    "\n",
    "    DGer = {\n",
    "        \"Defict\": deficit[0].value()[0],\n",
    "        \"CMO\": restricoes[n_UHE].multiplier.value[0],\n",
    "        \"CustoTotal\": fob.value()[0],\n",
    "        \"CustoFuturo\": custo_futuro[0].value()[0]\n",
    "    }\n",
    "\n",
    "    hidro_usis = []\n",
    "    for i,usi in enumerate(sistema[\"UHE\"]):\n",
    "        result = {\n",
    "            \"volume_final\": vol_final[i].value()[0],\n",
    "            \"volume_turbinado\": vol_turbinado[i].value()[0],\n",
    "            \"volume_vertido\": vol_vertido[i].value()[0],\n",
    "            \"CMA\": restricoes[i].multiplier.value[0]\n",
    "        }\n",
    "        hidro_usis.append(result)\n",
    "        \n",
    "    termo_usis = []\n",
    "    for i,usi in enumerate(sistema[\"UTE\"]):\n",
    "        result = {\n",
    "            \"geracao_termica\": ger_termica[i].value()[0],\n",
    "        }\n",
    "        termo_usis.append(result)\n",
    "\n",
    "    resultado = {\n",
    "        \"DGer\": DGer,\n",
    "        \"UHE\": hidro_usis,\n",
    "        \"UTE\": termo_usis\n",
    "    }\n",
    "\n",
    "    if verbose:\n",
    "        print(f'Custo Total = {fob.value()}')\n",
    "\n",
    "        for i,usi in enumerate(sistema['UHE']):\n",
    "            print(f\"Volume Final {sistema['UHE'][i]['Nome']} = {vol_final[i].value()}\")\n",
    "            print(f\"Volume Turbinado {sistema['UHE'][i]['Nome']} = {vol_turbinado[i].value()}\")\n",
    "            print(f\"Volume Vertido {sistema['UHE'][i]['Nome']} = {vol_vertido[i].value()}\")\n",
    "            print('#'*70)\n",
    "        \n",
    "        for i,usi in enumerate(sistema['UTE']):\n",
    "            print(f\"Geração Termica {sistema['UTE'][i]['Nome']} = {ger_termica[i].value()}\")\n",
    "\n",
    "        print(f'Defict = {deficit[0].value()}')\n",
    "\n",
    "        for i,usi in enumerate(sistema['UHE']):\n",
    "            print(f\"Valor da água Usina {sistema['UHE'][i]['Nome']}  = {restricoes[i].multiplier.value}\")\n",
    "    \n",
    "        print(f'Custo Marginal da Operação = {restricoes[n_UHE].multiplier.value}')\n",
    "        print(f'Custo Futuro da Operação = {custo_futuro[0].value()}')\n",
    "    return resultado\n",
    "\n"
   ]
  },
  {
   "cell_type": "code",
   "execution_count": 442,
   "metadata": {},
   "outputs": [
    {
     "name": "stdout",
     "output_type": "stream",
     "text": [
      "[-475.0]\n",
      "[-4.75]\n",
      "[-0.0]\n"
     ]
    },
    {
     "data": {
      "image/png": "[encoded data removed]",
      "text/plain": [
       "<Figure size 432x288 with 1 Axes>"
      ]
     },
     "metadata": {
      "needs_background": "light"
     },
     "output_type": "display_data"
    },
    {
     "name": "stdout",
     "output_type": "stream",
     "text": [
      "[-475.0]\n",
      "[-0.0]\n",
      "[-0.0]\n"
     ]
    },
    {
     "data": {
      "image/png": "[encoded data removed]",
      "text/plain": [
       "<Figure size 432x288 with 1 Axes>"
      ]
     },
     "metadata": {
      "needs_background": "light"
     },
     "output_type": "display_data"
    },
    {
     "name": "stdout",
     "output_type": "stream",
     "text": [
      "[-475.0]\n",
      "[-0.0]\n",
      "[-0.0]\n"
     ]
    },
    {
     "data": {
      "image/png": "[encoded data removed]",
      "text/plain": [
       "<Figure size 432x288 with 1 Axes>"
      ]
     },
     "metadata": {
      "needs_background": "light"
     },
     "output_type": "display_data"
    }
   ],
   "source": [
    "from itertools import product\n",
    "import numpy as np\n",
    "\n",
    "passo = 100/(sistema[\"DGer\"][\"n_discretizacoes\"]-1)\n",
    "discretizacoes = list(product(np.arange(0,100+passo,passo), repeat=len(sistema[\"UHE\"])))\n",
    "\n",
    "#loop de estagios\n",
    "for iest in np.arange(sistema[\"DGer\"][\"n_estagios\"],0,-1):\n",
    "    plt.figure(iest)\n",
    "    plt.title(f'Função de Custo Futuro no Estágio {iest}')\n",
    "    plt.xlabel('Volume Inicial [hm³]')\n",
    "    plt.ylabel('Custo Total')\n",
    "    eixox = []\n",
    "    eixoy = []\n",
    "    pote_de_corte = []\n",
    "    #loop de discretizações\n",
    "    for discretizacao in discretizacoes:\n",
    "        volume_inicial = []\n",
    "        for i,usi in enumerate(sistema[\"UHE\"]):\n",
    "            volume_inicial.append(usi[\"Vmin\"]+((usi[\"Vmax\"]-usi[\"Vmin\"])*discretizacao[i]/100))\n",
    "        eixox.append(volume_inicial[0])\n",
    "        media = 0\n",
    "        media_cma = []\n",
    "        for i,usi in enumerate(sistema[\"UHE\"]):\n",
    "            media_cma.append(0)           \n",
    "        #loop de cenarios\n",
    "        for icen in np.arange(0,sistema[\"DGer\"][\"n_cenarios\"]):\n",
    "            afluencia = []\n",
    "            for i, usi in enumerate(sistema[\"UHE\"]):\n",
    "                afluencia.append(usi[\"Afluencia\"][iest-1][icen])\n",
    "            #print('-'*30,f'ESTAGIO {iest}','-'*30)\n",
    "            resultado = despacho(sistema,volume_inicial,afluencia, potecorte=pote_de_corte, mes=iest+1)\n",
    "            media += resultado[\"DGer\"][\"CustoTotal\"]\n",
    "            for i,usi in enumerate(resultado[\"UHE\"]):\n",
    "                media_cma[i] += usi[\"CMA\"]            \n",
    "        media = media/sistema[\"DGer\"][\"n_cenarios\"]\n",
    "        termo_independente = media\n",
    "        for i,usi in enumerate(resultado[\"UHE\"]):\n",
    "            media_cma[i] = -media_cma[i] / sistema[\"DGer\"]['n_cenarios']\n",
    "            termo_independente -= volume_inicial[i]*media_cma[i]\n",
    "        corte = {\n",
    "            \"Estagio\": iest,\n",
    "            \"TermoIndependete\": termo_independente,\n",
    "            \"Coefs\": media_cma\n",
    "        }\n",
    "        pote_de_corte.append(corte)\n",
    "        eixoy.append(media)\n",
    "        print(media_cma)\n",
    "        \n",
    "    plt.plot(eixox,eixoy, marker='o')\n",
    "    plt.show()\n"
   ]
  },
  {
   "cell_type": "code",
   "execution_count": 443,
   "metadata": {},
   "outputs": [
    {
     "name": "stdout",
     "output_type": "stream",
     "text": [
      "Custo Total = [-7.11e-17]\n",
      "\n",
      "Volume Final UHE1 = [ 2.44e+01]\n",
      "\n",
      "Volume Turbinado UHE1 = [ 5.26e+01]\n",
      "\n",
      "Volume Vertido UHE1 = [-7.11e-15]\n",
      "\n",
      "######################################################################\n",
      "Geração Termica TERM1 = [ 0.00e+00]\n",
      "\n",
      "Geração Termica TERM2 = [ 0.00e+00]\n",
      "\n",
      "Defict = [ 0.00e+00]\n",
      "\n",
      "Valor da água Usina UHE1  = [ 0.00e+00]\n",
      "\n",
      "Custo Marginal da Operação = [ 1.73e-18]\n",
      "\n",
      "Custo Futuro da Operação = [ 0.00e+00]\n",
      "\n"
     ]
    },
    {
     "data": {
      "text/plain": [
       "{'DGer': {'Defict': 0.0,\n",
       "  'CMO': 1.734723475976807e-18,\n",
       "  'CustoTotal': -7.105427357601002e-17,\n",
       "  'CustoFuturo': 0.0},\n",
       " 'UHE': [{'volume_final': 24.368421052631582,\n",
       "   'volume_turbinado': 52.631578947368425,\n",
       "   'volume_vertido': -7.105427357601002e-15,\n",
       "   'CMA': 0.0}],\n",
       " 'UTE': [{'geracao_termica': 0.0}, {'geracao_termica': 0.0}]}"
      ]
     },
     "execution_count": 443,
     "metadata": {},
     "output_type": "execute_result"
    }
   ],
   "source": [
    "despacho(sistema,[62],[15],pote_de_corte,2,verbose=True)"
   ]
  }
 ],
 "metadata": {
  "kernelspec": {
   "display_name": "Python 3.7.6 ('base')",
   "language": "python",
   "name": "python3"
  },
  "language_info": {
   "codemirror_mode": {
    "name": "ipython",
    "version": 3
   },
   "file_extension": ".py",
   "mimetype": "text/x-python",
   "name": "python",
   "nbconvert_exporter": "python",
   "pygments_lexer": "ipython3",
   "version": "3.7.6"
  },
  "orig_nbformat": 4,
  "vscode": {
   "interpreter": {
    "hash": "f416ee278483a7bbc6cd535131cb05f1ba4e22344925b358ba5d9e41594f9f54"
   }
  }
 },
 "nbformat": 4,
 "nbformat_minor": 2
}
