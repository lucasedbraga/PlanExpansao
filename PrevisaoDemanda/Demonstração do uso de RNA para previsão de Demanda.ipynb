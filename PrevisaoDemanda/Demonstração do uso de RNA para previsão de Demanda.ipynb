{
 "cells": [
  {
   "cell_type": "markdown",
   "metadata": {},
   "source": [
    "# Demonstração uso Redes Neurais Artificiais em Python\n",
    "\n",
    "Para utilização de Redes Neurais em Python primeiramente é necessário instalar os seguintes pacotes em seu ambiente de desenvolvimento pelo gerenciador pip:\n",
    "\n",
    "* Pandas\n",
    "\n",
    "    - Leitura de dados e formação de tabelas e estruturação dos dados\n",
    "    - **pip install pandas**\n",
    "    \n",
    "* Numpy\n",
    "\n",
    "    - Manipulação de Vetores e Matrizes\n",
    "    - **pip install numpy**\n",
    "\n",
    "* Scikit-Learn\n",
    "    - Modelos de Machine-Learning\n",
    "    - **pip install -U scikit-learn**\n",
    "\n",
    "* Matplotlib\n",
    "    - Criação de gráficos\n",
    "    - **pip install matplotlib**"
   ]
  },
  {
   "cell_type": "code",
   "execution_count": 1,
   "metadata": {},
   "outputs": [],
   "source": [
    "import pandas as pd\n",
    "import numpy as np\n",
    "\n",
    "from sklearn.neural_network import MLPRegressor\n",
    "# Modelo de Rede Neural Multi-Layer Perceptron\n",
    "# Avaliação da Acurácia do Modelo\n",
    "from matplotlib import pyplot as plt"
   ]
  },
  {
   "cell_type": "markdown",
   "metadata": {},
   "source": [
    "## Leitura dos Dados\n",
    "\n",
    "Para abrir uma planilha Excel, utilizamos o método _read_excel_ da biblioteca Pandas. Como argumento, passamos o endereço do arquivo a ser lido (Ex: C://desktop//arquivo.txt). Os dados utilizados neste exemplo contemplam o histórico mensal de demandas dos últimos 15 anos."
   ]
  },
  {
   "cell_type": "code",
   "execution_count": 2,
   "metadata": {},
   "outputs": [
    {
     "data": {
      "text/html": [
       "<div>\n",
       "<style scoped>\n",
       "    .dataframe tbody tr th:only-of-type {\n",
       "        vertical-align: middle;\n",
       "    }\n",
       "\n",
       "    .dataframe tbody tr th {\n",
       "        vertical-align: top;\n",
       "    }\n",
       "\n",
       "    .dataframe thead th {\n",
       "        text-align: right;\n",
       "    }\n",
       "</style>\n",
       "<table border=\"1\" class=\"dataframe\">\n",
       "  <thead>\n",
       "    <tr style=\"text-align: right;\">\n",
       "      <th></th>\n",
       "      <th>jan</th>\n",
       "      <th>fev</th>\n",
       "      <th>mar</th>\n",
       "      <th>abr</th>\n",
       "      <th>mai</th>\n",
       "      <th>jun</th>\n",
       "      <th>jul</th>\n",
       "      <th>ago</th>\n",
       "      <th>set</th>\n",
       "      <th>out</th>\n",
       "      <th>nov</th>\n",
       "      <th>dez</th>\n",
       "    </tr>\n",
       "  </thead>\n",
       "  <tbody>\n",
       "    <tr>\n",
       "      <th>0</th>\n",
       "      <td>1997</td>\n",
       "      <td>2014</td>\n",
       "      <td>2113</td>\n",
       "      <td>2140</td>\n",
       "      <td>2215</td>\n",
       "      <td>2225</td>\n",
       "      <td>2224</td>\n",
       "      <td>2196</td>\n",
       "      <td>2256</td>\n",
       "      <td>2244</td>\n",
       "      <td>2256</td>\n",
       "      <td>2231</td>\n",
       "    </tr>\n",
       "    <tr>\n",
       "      <th>1</th>\n",
       "      <td>2246</td>\n",
       "      <td>2347</td>\n",
       "      <td>2357</td>\n",
       "      <td>2349</td>\n",
       "      <td>2438</td>\n",
       "      <td>2432</td>\n",
       "      <td>2429</td>\n",
       "      <td>2492</td>\n",
       "      <td>2464</td>\n",
       "      <td>2513</td>\n",
       "      <td>2491</td>\n",
       "      <td>2408</td>\n",
       "    </tr>\n",
       "    <tr>\n",
       "      <th>2</th>\n",
       "      <td>2449</td>\n",
       "      <td>2507</td>\n",
       "      <td>2546</td>\n",
       "      <td>2548</td>\n",
       "      <td>2579</td>\n",
       "      <td>2557</td>\n",
       "      <td>2600</td>\n",
       "      <td>2694</td>\n",
       "      <td>2700</td>\n",
       "      <td>2724</td>\n",
       "      <td>2695</td>\n",
       "      <td>2656</td>\n",
       "    </tr>\n",
       "    <tr>\n",
       "      <th>3</th>\n",
       "      <td>2624</td>\n",
       "      <td>2687</td>\n",
       "      <td>2758</td>\n",
       "      <td>2826</td>\n",
       "      <td>2820</td>\n",
       "      <td>2836</td>\n",
       "      <td>2840</td>\n",
       "      <td>2897</td>\n",
       "      <td>2947</td>\n",
       "      <td>2958</td>\n",
       "      <td>2904</td>\n",
       "      <td>2826</td>\n",
       "    </tr>\n",
       "    <tr>\n",
       "      <th>4</th>\n",
       "      <td>2834</td>\n",
       "      <td>2968</td>\n",
       "      <td>2922</td>\n",
       "      <td>2949</td>\n",
       "      <td>2965</td>\n",
       "      <td>2984</td>\n",
       "      <td>3051</td>\n",
       "      <td>3092</td>\n",
       "      <td>3171</td>\n",
       "      <td>3110</td>\n",
       "      <td>3083</td>\n",
       "      <td>3042</td>\n",
       "    </tr>\n",
       "    <tr>\n",
       "      <th>5</th>\n",
       "      <td>3047</td>\n",
       "      <td>3097</td>\n",
       "      <td>3190</td>\n",
       "      <td>3199</td>\n",
       "      <td>3256</td>\n",
       "      <td>3301</td>\n",
       "      <td>3260</td>\n",
       "      <td>3387</td>\n",
       "      <td>3453</td>\n",
       "      <td>3334</td>\n",
       "      <td>3261</td>\n",
       "      <td>3233</td>\n",
       "    </tr>\n",
       "    <tr>\n",
       "      <th>6</th>\n",
       "      <td>3268</td>\n",
       "      <td>3319</td>\n",
       "      <td>3291</td>\n",
       "      <td>3373</td>\n",
       "      <td>3410</td>\n",
       "      <td>3503</td>\n",
       "      <td>3509</td>\n",
       "      <td>3608</td>\n",
       "      <td>3559</td>\n",
       "      <td>3462</td>\n",
       "      <td>3469</td>\n",
       "      <td>3375</td>\n",
       "    </tr>\n",
       "    <tr>\n",
       "      <th>7</th>\n",
       "      <td>3391</td>\n",
       "      <td>3385</td>\n",
       "      <td>3382</td>\n",
       "      <td>3135</td>\n",
       "      <td>3298</td>\n",
       "      <td>3399</td>\n",
       "      <td>3442</td>\n",
       "      <td>3504</td>\n",
       "      <td>3493</td>\n",
       "      <td>3475</td>\n",
       "      <td>3395</td>\n",
       "      <td>3190</td>\n",
       "    </tr>\n",
       "    <tr>\n",
       "      <th>8</th>\n",
       "      <td>3194</td>\n",
       "      <td>3271</td>\n",
       "      <td>3451</td>\n",
       "      <td>3456</td>\n",
       "      <td>3497</td>\n",
       "      <td>3576</td>\n",
       "      <td>3608</td>\n",
       "      <td>3664</td>\n",
       "      <td>3655</td>\n",
       "      <td>3634</td>\n",
       "      <td>3551</td>\n",
       "      <td>3390</td>\n",
       "    </tr>\n",
       "    <tr>\n",
       "      <th>9</th>\n",
       "      <td>3391</td>\n",
       "      <td>3460</td>\n",
       "      <td>3454</td>\n",
       "      <td>3483</td>\n",
       "      <td>3560</td>\n",
       "      <td>3572</td>\n",
       "      <td>3591</td>\n",
       "      <td>3598</td>\n",
       "      <td>3555</td>\n",
       "      <td>3484</td>\n",
       "      <td>3426</td>\n",
       "      <td>3382</td>\n",
       "    </tr>\n",
       "    <tr>\n",
       "      <th>10</th>\n",
       "      <td>3400</td>\n",
       "      <td>3514</td>\n",
       "      <td>3630</td>\n",
       "      <td>3566</td>\n",
       "      <td>3665</td>\n",
       "      <td>3675</td>\n",
       "      <td>3759</td>\n",
       "      <td>3748</td>\n",
       "      <td>3777</td>\n",
       "      <td>3696</td>\n",
       "      <td>3574</td>\n",
       "      <td>3483</td>\n",
       "    </tr>\n",
       "    <tr>\n",
       "      <th>11</th>\n",
       "      <td>3390</td>\n",
       "      <td>3512</td>\n",
       "      <td>3554</td>\n",
       "      <td>3546</td>\n",
       "      <td>3601</td>\n",
       "      <td>3546</td>\n",
       "      <td>3603</td>\n",
       "      <td>3652</td>\n",
       "      <td>3688</td>\n",
       "      <td>3707</td>\n",
       "      <td>3457</td>\n",
       "      <td>3512</td>\n",
       "    </tr>\n",
       "    <tr>\n",
       "      <th>12</th>\n",
       "      <td>3637</td>\n",
       "      <td>3686</td>\n",
       "      <td>3796</td>\n",
       "      <td>3772</td>\n",
       "      <td>3837</td>\n",
       "      <td>3820</td>\n",
       "      <td>3836</td>\n",
       "      <td>3963</td>\n",
       "      <td>3924</td>\n",
       "      <td>3897</td>\n",
       "      <td>3778</td>\n",
       "      <td>3687</td>\n",
       "    </tr>\n",
       "    <tr>\n",
       "      <th>13</th>\n",
       "      <td>3729</td>\n",
       "      <td>3909</td>\n",
       "      <td>3912</td>\n",
       "      <td>3988</td>\n",
       "      <td>4120</td>\n",
       "      <td>4240</td>\n",
       "      <td>4298</td>\n",
       "      <td>4374</td>\n",
       "      <td>4530</td>\n",
       "      <td>4371</td>\n",
       "      <td>4308</td>\n",
       "      <td>4226</td>\n",
       "    </tr>\n",
       "    <tr>\n",
       "      <th>14</th>\n",
       "      <td>4134</td>\n",
       "      <td>4281</td>\n",
       "      <td>4297</td>\n",
       "      <td>4299</td>\n",
       "      <td>4394</td>\n",
       "      <td>4407</td>\n",
       "      <td>4479</td>\n",
       "      <td>4539</td>\n",
       "      <td>4670</td>\n",
       "      <td>4522</td>\n",
       "      <td>4538</td>\n",
       "      <td>4262</td>\n",
       "    </tr>\n",
       "  </tbody>\n",
       "</table>\n",
       "</div>"
      ],
      "text/plain": [
       "     jan   fev   mar   abr   mai   jun   jul   ago   set   out   nov   dez\n",
       "0   1997  2014  2113  2140  2215  2225  2224  2196  2256  2244  2256  2231\n",
       "1   2246  2347  2357  2349  2438  2432  2429  2492  2464  2513  2491  2408\n",
       "2   2449  2507  2546  2548  2579  2557  2600  2694  2700  2724  2695  2656\n",
       "3   2624  2687  2758  2826  2820  2836  2840  2897  2947  2958  2904  2826\n",
       "4   2834  2968  2922  2949  2965  2984  3051  3092  3171  3110  3083  3042\n",
       "5   3047  3097  3190  3199  3256  3301  3260  3387  3453  3334  3261  3233\n",
       "6   3268  3319  3291  3373  3410  3503  3509  3608  3559  3462  3469  3375\n",
       "7   3391  3385  3382  3135  3298  3399  3442  3504  3493  3475  3395  3190\n",
       "8   3194  3271  3451  3456  3497  3576  3608  3664  3655  3634  3551  3390\n",
       "9   3391  3460  3454  3483  3560  3572  3591  3598  3555  3484  3426  3382\n",
       "10  3400  3514  3630  3566  3665  3675  3759  3748  3777  3696  3574  3483\n",
       "11  3390  3512  3554  3546  3601  3546  3603  3652  3688  3707  3457  3512\n",
       "12  3637  3686  3796  3772  3837  3820  3836  3963  3924  3897  3778  3687\n",
       "13  3729  3909  3912  3988  4120  4240  4298  4374  4530  4371  4308  4226\n",
       "14  4134  4281  4297  4299  4394  4407  4479  4539  4670  4522  4538  4262"
      ]
     },
     "execution_count": 2,
     "metadata": {},
     "output_type": "execute_result"
    }
   ],
   "source": [
    "dados = pd.read_excel('dados.xlsx')\n",
    "dados"
   ]
  },
  {
   "cell_type": "markdown",
   "metadata": {},
   "source": [
    "## Separação em dados de Treino e de Teste\n",
    "\n",
    "Para o treino supervisionado da Rede Neural, precisamos separar o conjunto de dados em treinamento e teste. Neste cenário de Demandas, queremos utilizar a Rede Neural para a partir do histórico mensal dos últimos anos prever a demanda dos meses do próximo ano.\n",
    "\n",
    "### Selecionando Dados\n",
    "\n",
    "#### Conjunto de Treinamento\n",
    "\n",
    "O conjunto de treinamento consiste nos conjuntos de entradas e resposta de saída que a Rede Neural utiliza para aprender o padrão. A cada iteração, a partir da entrada do conjunto de treinamento, a RNA produz uma saída que é comparada com a resposta informada pelas saídas do conjunto de treinamento em que o erro obtido é utilizado no ajuste dos pesos sinpáticos internos de sua estrutura da Rede Neural.\n",
    "\n",
    "Queremos prever a demanda do próximo mês a partir de um histórico de dois meses anteriores, assim, o conjunto de entradas para o treinamento devem ser as demandas mensais [$M-2$,$M-1$]. Já o conjunto de respostas da saída, deve ser a demanda mensal conhecidas do mês $M$.\n",
    "\n",
    "* $X_{Treino}$ = [ [$A_{1}M_{1}$, $A_{1}M_{2}$], [$A_{1}M_{1}$, $A_{1}M_{2}$], ... , [$A_{n}M_{(m-1)},A_{n}M_{(m)}]]\n",
    "* $Y_{Treino}$ = [ [$A_{1}M_{3}$] , [$A_{1}M_{4}], ... , [A_{n}M_{(m+1)}]]\n",
    "\n",
    "Sendo:\n",
    "\n",
    "* $A_{x}$ : Ano x\n",
    "* $M_{x}$ : Mês x\n",
    "\n",
    "#### Conjunto de Teste\n",
    "\n",
    "O conjunto de teste é utilizado para avaliar o desempenho da Rede Neural já treinada. e estes dados devem ser inéditos ao modelo.\n",
    "\n",
    "O conjunto de treinamento utilizou como entrada os últimos 13 anos para o treinar a RNA, assim:\n",
    "\n",
    "* $X_{Teste}$ = [ [$A_{15}M_{1}$, $A_{15}M_{2}$] ,[$A_{15}M_{2}$, $A_{15}M_{3}$], ... , [$A_{15}M_{11}$, $A_{15}M_{12}$] ]\n",
    "\n",
    "Note que estes dados são inéditos para a RNA, pois não pertencem aos seus respectivos conjuntos de treinamento.\n",
    "\n",
    "### Dividindo Grupos no Python\n",
    "\n",
    "Para selecionar entre os dados da planilha o corte que queremos, utilizamos o método _iloc_ da classe _DataFrame_ da biblioteca pandas. \n",
    "\n",
    "\n",
    "_(Lembrete1: No Python a numeração começa do 0)_\n",
    "\n",
    "_(Lembrete2: No Python quando fazemos um corte, o limite superior é ignorado)_"
   ]
  },
  {
   "cell_type": "code",
   "execution_count": 3,
   "metadata": {},
   "outputs": [],
   "source": [
    "def ajusta_dados_treino(dados):\n",
    "    data_x = []\n",
    "    data_y = []\n",
    "\n",
    "    for l in range(len(dados)-2):\n",
    "        for c in range(len(dados.columns)-2):\n",
    "            data_x.append([dados.iloc[l,c],dados.iloc[l,c+1]])\n",
    "    \n",
    "    for l in range(len(dados)-2):\n",
    "        for c in range(len(dados.columns)-2):\n",
    "            data_y.append([dados.iloc[l,c+2]])\n",
    "    \n",
    "    return data_x, data_y\n",
    "\n",
    "def ajusta_dados_teste(dados):\n",
    "    data_x = []\n",
    "    data_y = []\n",
    "\n",
    "    for c in range(len(dados.columns)-1):\n",
    "        data_x.append([dados.iloc[0,c],dados.iloc[0,c+1]])\n",
    "    \n",
    "    for c in range(len(dados.columns)-2):\n",
    "        data_y.append(dados.iloc[0,c+2])\n",
    "    \n",
    "    return data_x, data_y\n"
   ]
  },
  {
   "cell_type": "code",
   "execution_count": 4,
   "metadata": {},
   "outputs": [],
   "source": [
    "#Exemplo = dataframe.iloc[lin_inicio:lin_fim , col_inicio: col_fim]\n",
    "x_treino, y_treino = ajusta_dados_treino(dados.iloc[:14,:])\n",
    "x_teste, y_teste = ajusta_dados_teste(dados.iloc[14:,:])"
   ]
  },
  {
   "cell_type": "code",
   "execution_count": 16,
   "metadata": {},
   "outputs": [
    {
     "data": {
      "text/plain": [
       "[[1997, 2014],\n",
       " [2014, 2113],\n",
       " [2113, 2140],\n",
       " [2140, 2215],\n",
       " [2215, 2225],\n",
       " [2225, 2224],\n",
       " [2224, 2196],\n",
       " [2196, 2256],\n",
       " [2256, 2244],\n",
       " [2244, 2256],\n",
       " [2246, 2347],\n",
       " [2347, 2357],\n",
       " [2357, 2349],\n",
       " [2349, 2438],\n",
       " [2438, 2432],\n",
       " [2432, 2429],\n",
       " [2429, 2492],\n",
       " [2492, 2464],\n",
       " [2464, 2513],\n",
       " [2513, 2491],\n",
       " [2449, 2507],\n",
       " [2507, 2546],\n",
       " [2546, 2548],\n",
       " [2548, 2579],\n",
       " [2579, 2557],\n",
       " [2557, 2600],\n",
       " [2600, 2694],\n",
       " [2694, 2700],\n",
       " [2700, 2724],\n",
       " [2724, 2695],\n",
       " [2624, 2687],\n",
       " [2687, 2758],\n",
       " [2758, 2826],\n",
       " [2826, 2820],\n",
       " [2820, 2836],\n",
       " [2836, 2840],\n",
       " [2840, 2897],\n",
       " [2897, 2947],\n",
       " [2947, 2958],\n",
       " [2958, 2904],\n",
       " [2834, 2968],\n",
       " [2968, 2922],\n",
       " [2922, 2949],\n",
       " [2949, 2965],\n",
       " [2965, 2984],\n",
       " [2984, 3051],\n",
       " [3051, 3092],\n",
       " [3092, 3171],\n",
       " [3171, 3110],\n",
       " [3110, 3083],\n",
       " [3047, 3097],\n",
       " [3097, 3190],\n",
       " [3190, 3199],\n",
       " [3199, 3256],\n",
       " [3256, 3301],\n",
       " [3301, 3260],\n",
       " [3260, 3387],\n",
       " [3387, 3453],\n",
       " [3453, 3334],\n",
       " [3334, 3261],\n",
       " [3268, 3319],\n",
       " [3319, 3291],\n",
       " [3291, 3373],\n",
       " [3373, 3410],\n",
       " [3410, 3503],\n",
       " [3503, 3509],\n",
       " [3509, 3608],\n",
       " [3608, 3559],\n",
       " [3559, 3462],\n",
       " [3462, 3469],\n",
       " [3391, 3385],\n",
       " [3385, 3382],\n",
       " [3382, 3135],\n",
       " [3135, 3298],\n",
       " [3298, 3399],\n",
       " [3399, 3442],\n",
       " [3442, 3504],\n",
       " [3504, 3493],\n",
       " [3493, 3475],\n",
       " [3475, 3395],\n",
       " [3194, 3271],\n",
       " [3271, 3451],\n",
       " [3451, 3456],\n",
       " [3456, 3497],\n",
       " [3497, 3576],\n",
       " [3576, 3608],\n",
       " [3608, 3664],\n",
       " [3664, 3655],\n",
       " [3655, 3634],\n",
       " [3634, 3551],\n",
       " [3391, 3460],\n",
       " [3460, 3454],\n",
       " [3454, 3483],\n",
       " [3483, 3560],\n",
       " [3560, 3572],\n",
       " [3572, 3591],\n",
       " [3591, 3598],\n",
       " [3598, 3555],\n",
       " [3555, 3484],\n",
       " [3484, 3426],\n",
       " [3400, 3514],\n",
       " [3514, 3630],\n",
       " [3630, 3566],\n",
       " [3566, 3665],\n",
       " [3665, 3675],\n",
       " [3675, 3759],\n",
       " [3759, 3748],\n",
       " [3748, 3777],\n",
       " [3777, 3696],\n",
       " [3696, 3574],\n",
       " [3390, 3512],\n",
       " [3512, 3554],\n",
       " [3554, 3546],\n",
       " [3546, 3601],\n",
       " [3601, 3546],\n",
       " [3546, 3603],\n",
       " [3603, 3652],\n",
       " [3652, 3688],\n",
       " [3688, 3707],\n",
       " [3707, 3457]]"
      ]
     },
     "execution_count": 16,
     "metadata": {},
     "output_type": "execute_result"
    }
   ],
   "source": [
    "x_treino"
   ]
  },
  {
   "cell_type": "code",
   "execution_count": 6,
   "metadata": {},
   "outputs": [
    {
     "data": {
      "text/plain": [
       "[[2113],\n",
       " [2140],\n",
       " [2215],\n",
       " [2225],\n",
       " [2224],\n",
       " [2196],\n",
       " [2256],\n",
       " [2244],\n",
       " [2256],\n",
       " [2231],\n",
       " [2357],\n",
       " [2349],\n",
       " [2438],\n",
       " [2432],\n",
       " [2429],\n",
       " [2492],\n",
       " [2464],\n",
       " [2513],\n",
       " [2491],\n",
       " [2408],\n",
       " [2546],\n",
       " [2548],\n",
       " [2579],\n",
       " [2557],\n",
       " [2600],\n",
       " [2694],\n",
       " [2700],\n",
       " [2724],\n",
       " [2695],\n",
       " [2656],\n",
       " [2758],\n",
       " [2826],\n",
       " [2820],\n",
       " [2836],\n",
       " [2840],\n",
       " [2897],\n",
       " [2947],\n",
       " [2958],\n",
       " [2904],\n",
       " [2826],\n",
       " [2922],\n",
       " [2949],\n",
       " [2965],\n",
       " [2984],\n",
       " [3051],\n",
       " [3092],\n",
       " [3171],\n",
       " [3110],\n",
       " [3083],\n",
       " [3042],\n",
       " [3190],\n",
       " [3199],\n",
       " [3256],\n",
       " [3301],\n",
       " [3260],\n",
       " [3387],\n",
       " [3453],\n",
       " [3334],\n",
       " [3261],\n",
       " [3233],\n",
       " [3291],\n",
       " [3373],\n",
       " [3410],\n",
       " [3503],\n",
       " [3509],\n",
       " [3608],\n",
       " [3559],\n",
       " [3462],\n",
       " [3469],\n",
       " [3375],\n",
       " [3382],\n",
       " [3135],\n",
       " [3298],\n",
       " [3399],\n",
       " [3442],\n",
       " [3504],\n",
       " [3493],\n",
       " [3475],\n",
       " [3395],\n",
       " [3190],\n",
       " [3451],\n",
       " [3456],\n",
       " [3497],\n",
       " [3576],\n",
       " [3608],\n",
       " [3664],\n",
       " [3655],\n",
       " [3634],\n",
       " [3551],\n",
       " [3390],\n",
       " [3454],\n",
       " [3483],\n",
       " [3560],\n",
       " [3572],\n",
       " [3591],\n",
       " [3598],\n",
       " [3555],\n",
       " [3484],\n",
       " [3426],\n",
       " [3382],\n",
       " [3630],\n",
       " [3566],\n",
       " [3665],\n",
       " [3675],\n",
       " [3759],\n",
       " [3748],\n",
       " [3777],\n",
       " [3696],\n",
       " [3574],\n",
       " [3483],\n",
       " [3554],\n",
       " [3546],\n",
       " [3601],\n",
       " [3546],\n",
       " [3603],\n",
       " [3652],\n",
       " [3688],\n",
       " [3707],\n",
       " [3457],\n",
       " [3512]]"
      ]
     },
     "execution_count": 6,
     "metadata": {},
     "output_type": "execute_result"
    }
   ],
   "source": [
    "y_treino"
   ]
  },
  {
   "cell_type": "code",
   "execution_count": 7,
   "metadata": {
    "scrolled": true
   },
   "outputs": [
    {
     "data": {
      "text/plain": [
       "[[4134, 4281],\n",
       " [4281, 4297],\n",
       " [4297, 4299],\n",
       " [4299, 4394],\n",
       " [4394, 4407],\n",
       " [4407, 4479],\n",
       " [4479, 4539],\n",
       " [4539, 4670],\n",
       " [4670, 4522],\n",
       " [4522, 4538],\n",
       " [4538, 4262]]"
      ]
     },
     "execution_count": 7,
     "metadata": {},
     "output_type": "execute_result"
    }
   ],
   "source": [
    "x_teste"
   ]
  },
  {
   "cell_type": "markdown",
   "metadata": {},
   "source": [
    "## Criando o modelo\n",
    "\n",
    "### Construção da RNA\n",
    "\n",
    "A biblioteca _Scikit-Learn_ possui diversas classes de modelos de aprendizados prontos que só precisam ser importados e instanciados, atribuindo valores para os hiperparâmetros que constituem o modelo.\n",
    "\n",
    "Para a previsão de demanda, utilizaremos a Rede Neural Multi-Layer Perceptron em que os principais hiperparâmetros a serem instanciados são:\n",
    "\n",
    "* Número de Neurônios na Camada Oculta : _hidden_layer_sizes_\n",
    "* Função de Ativação: _activation_\n",
    "* Método de Ajuste de Pesos: _solver_\n",
    "* Número \n",
    "* Máximo de iterações: _max_iter_\n",
    "* Tolerância do Erro: _tol_\n",
    "* Número de Iterações sem melhora: _n_iter_no_change_\n",
    "\n",
    "Mais hiperparametros e detalhes estão documentados no link : (https://scikit-learn.org/stable/modules/generated/sklearn.neural_network.MLPRegressor.html)"
   ]
  },
  {
   "cell_type": "code",
   "execution_count": 8,
   "metadata": {},
   "outputs": [],
   "source": [
    "RNA = MLPRegressor(\n",
    "            hidden_layer_sizes= 5,\n",
    "            activation='relu',\n",
    "            solver='lbfgs',\n",
    "            max_iter= 10000,\n",
    "            tol=1e-8,\n",
    "            verbose=True,\n",
    "            n_iter_no_change=10,\n",
    "        )"
   ]
  },
  {
   "cell_type": "markdown",
   "metadata": {},
   "source": [
    "### Treinando o Modelo\n",
    "\n",
    "Após instanciar os parâmetros construtores do modelo, precisamos realizar o treinamento. Para isso, basta utilizar o método _fit_ passando os valores dos conjuntos de treinamento."
   ]
  },
  {
   "cell_type": "code",
   "execution_count": 9,
   "metadata": {},
   "outputs": [
    {
     "name": "stderr",
     "output_type": "stream",
     "text": [
      "/home/ufjf/projetos/GOHB_Estimator/venv/lib/python3.8/site-packages/sklearn/neural_network/_multilayer_perceptron.py:1599: DataConversionWarning: A column-vector y was passed when a 1d array was expected. Please change the shape of y to (n_samples, ), for example using ravel().\n",
      "  y = column_or_1d(y, warn=True)\n"
     ]
    }
   ],
   "source": [
    "model = RNA.fit(x_treino, y_treino)"
   ]
  },
  {
   "cell_type": "markdown",
   "metadata": {},
   "source": [
    "## Avaliando o Modelo\n",
    "\n",
    "### Realizando a Predição \n",
    "\n",
    "Como dito anteriormente, para avaliar a RNA já treinada precisamos fazer a predição com dados inéditos. Para realizar a predição, utilizamos o método _predict_ do modelo já treinado."
   ]
  },
  {
   "cell_type": "code",
   "execution_count": 10,
   "metadata": {},
   "outputs": [
    {
     "data": {
      "text/plain": [
       "array([4304.73765295, 4300.10670434, 4299.90191967, 4409.56648104,\n",
       "       4409.65296184, 4490.95828904, 4549.07842698, 4691.28393769,\n",
       "       4499.31364888, 4541.14785957, 4219.10809519])"
      ]
     },
     "execution_count": 10,
     "metadata": {},
     "output_type": "execute_result"
    }
   ],
   "source": [
    "previsao = model.predict(x_teste)\n",
    "previsao"
   ]
  },
  {
   "cell_type": "markdown",
   "metadata": {},
   "source": [
    "### Dados de Balisa\n",
    "\n",
    "Os dados de balisa constituem da resposta correta que deveria ser atingida pela previsão da RNA. Estes dados são utilizados para o cálculo de métricas de desempenho do modelo e também avaliar gráficamente o resultado obtido com o resultado esperado.\n",
    "Assim,\n",
    "\n",
    "* $Y_{Balisa}$ = [[$A_{15}M_{3}$], [$A_{15}M_{4}$], ... , [$A_{15}M_{12}$]]"
   ]
  },
  {
   "cell_type": "code",
   "execution_count": 11,
   "metadata": {},
   "outputs": [
    {
     "data": {
      "text/plain": [
       "[4297, 4299, 4394, 4407, 4479, 4539, 4670, 4522, 4538, 4262]"
      ]
     },
     "execution_count": 11,
     "metadata": {},
     "output_type": "execute_result"
    }
   ],
   "source": [
    "y_teste "
   ]
  },
  {
   "cell_type": "markdown",
   "metadata": {},
   "source": [
    "### Visualização dos dados\n",
    "\n",
    "A fim de realizar uma análise visual, utilizamos os métodos da biblioteca _Matplotlib.pyplot_ para construção de gráfico.\n",
    "\n",
    "##### Tratamento dos Dados\n",
    "\n",
    "Para construção dos gráficos, devemos passar vetores com os valores a serem plotados. No entanto, para o treinamento da RNA e como padrão de saída do modelo temos um vetor de vetores."
   ]
  },
  {
   "cell_type": "markdown",
   "metadata": {},
   "source": [
    "Assim, devemos passar a posição do vetor que queremos plotar.\n",
    "\n",
    "Outro problema é que quando usamos o método _iloc_, o tipo do objeto retornado não é um vetor e sim um _DataFrame_"
   ]
  },
  {
   "cell_type": "markdown",
   "metadata": {},
   "source": [
    "Para corrigir o problema, devemos converter o objeto _real_ para um vetor, utilizando o método _array_ da biblioteca Numpy."
   ]
  },
  {
   "cell_type": "markdown",
   "metadata": {},
   "source": [
    "Como os vetores foram tratados e possuem o mesmo tipo, agora basta montar o plot com os métodos da classe _pyplot_ da biblioteca _Matplotlib_ e avaliar o modelo."
   ]
  },
  {
   "cell_type": "code",
   "execution_count": 12,
   "metadata": {},
   "outputs": [
    {
     "data": {
      "text/plain": [
       "<matplotlib.legend.Legend at 0x7fde5508fee0>"
      ]
     },
     "execution_count": 12,
     "metadata": {},
     "output_type": "execute_result"
    },
    {
     "data": {
      "image/png": "[encoded data removed]",
      "text/plain": [
       "<Figure size 432x288 with 1 Axes>"
      ]
     },
     "metadata": {
      "needs_background": "light"
     },
     "output_type": "display_data"
    }
   ],
   "source": [
    "plt.title('Previsão Demanda')\n",
    "plt.plot(previsao[1:], label='Estimado', marker='*')\n",
    "plt.plot(y_teste, label='Real', marker='*')\n",
    "plt.grid()\n",
    "plt.legend()"
   ]
  },
  {
   "cell_type": "code",
   "execution_count": 13,
   "metadata": {},
   "outputs": [
    {
     "data": {
      "text/plain": [
       "[0.0722993795704806,\n",
       " 0.020979755143159456,\n",
       " 0.35426675106554906,\n",
       " 0.060198816434476526,\n",
       " 0.2669856895836523,\n",
       " 0.22204069126768017,\n",
       " 0.45575883712269644,\n",
       " 0.5016884368773223,\n",
       " 0.06936667183484911,\n",
       " 1.0063797468022915]"
      ]
     },
     "execution_count": 13,
     "metadata": {},
     "output_type": "execute_result"
    }
   ],
   "source": [
    "erro_percentual = list((abs(previsao[1:]-np.array(y_teste).flatten())/y_teste)*100)\n",
    "erro_percentual"
   ]
  },
  {
   "cell_type": "code",
   "execution_count": 14,
   "metadata": {},
   "outputs": [
    {
     "data": {
      "text/plain": [
       "Text(0, 0.5, '%')"
      ]
     },
     "execution_count": 14,
     "metadata": {},
     "output_type": "execute_result"
    },
    {
     "data": {
      "image/png": "[encoded data removed]",
      "text/plain": [
       "<Figure size 432x288 with 1 Axes>"
      ]
     },
     "metadata": {
      "needs_background": "light"
     },
     "output_type": "display_data"
    }
   ],
   "source": [
    "plt.title('Erro Percentual (%)')\n",
    "plt.plot(erro_percentual)\n",
    "plt.ylabel('%')"
   ]
  }
 ],
 "metadata": {
  "kernelspec": {
   "display_name": "Python 3",
   "language": "python",
   "name": "python3"
  },
  "language_info": {
   "codemirror_mode": {
    "name": "ipython",
    "version": 3
   },
   "file_extension": ".py",
   "mimetype": "text/x-python",
   "name": "python",
   "nbconvert_exporter": "python",
   "pygments_lexer": "ipython3",
   "version": "3.8.10"
  }
 },
 "nbformat": 4,
 "nbformat_minor": 4
}
